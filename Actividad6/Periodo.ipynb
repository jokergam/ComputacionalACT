{
 "cells": [
  {
   "cell_type": "code",
   "execution_count": 1,
   "metadata": {
    "collapsed": false,
    "scrolled": true
   },
   "outputs": [],
   "source": [
    "from scipy import integrate\n",
    "import matplotlib.pyplot as plt\n",
    "import numpy as np\n",
    "\n",
    "\n",
    "fig = plt.figure()\n",
    "\n",
    "g = 9.8\n",
    "#Vectores vacios de abscisas y ordenadas.\n",
    "x=[]\n",
    "Ts=[]\n",
    "i = 0 \n",
    "\n",
    "\n",
    "# La variable i toma valores de 0 a 90 (grados) en este ciclo.\n",
    "while (i<=90):\n",
    "    i = i + 1 \n",
    "    #convertir grados a radianes\n",
    "    theta0 = (i*np.pi)/180\n",
    "    #longitud del pendulo\n",
    "    l = 1  \n",
    "    #se define la ecuacion integrar\n",
    "    f = lambda x: 1/np.sqrt(np.cos(x) - np.cos(theta0)) \n",
    "    # Se calcula el valor de la integral\n",
    "    F, erri = integrate.quad(f,0,theta0)\n",
    "    T = 4 * np.sqrt(l/g) * (1/np.sqrt(2)) * F\n",
    "    # Se agrega la abscisa actual al vector de abscisas.\n",
    "    x.append(i)\n",
    "    \n",
    "    # Para graficar Ts/Ths (relación entre periodo real y periodo de oscilaciones pequeñas)\n",
    "    Ths = 2*np.pi*np.sqrt(l/g)\n",
    "    T = T/Ths\n",
    "    # Se agrega la ordenada actual al vector de ordenadas.\n",
    "    Ts.append(T)\n",
    "\n",
    "plt.xlabel('Theta0 (grados)')\n",
    "plt.ylabel('T/T0') \n",
    "plt.plot(x,Ts,color='r')\n",
    "plt.show()"
   ]
  },
  {
   "cell_type": "code",
   "execution_count": null,
   "metadata": {
    "collapsed": true
   },
   "outputs": [],
   "source": []
  },
  {
   "cell_type": "code",
   "execution_count": null,
   "metadata": {
    "collapsed": true
   },
   "outputs": [],
   "source": []
  }
 ],
 "metadata": {
  "kernelspec": {
   "display_name": "Python 3",
   "language": "python",
   "name": "python3"
  },
  "language_info": {
   "codemirror_mode": {
    "name": "ipython",
    "version": 3
   },
   "file_extension": ".py",
   "mimetype": "text/x-python",
   "name": "python",
   "nbconvert_exporter": "python",
   "pygments_lexer": "ipython3",
   "version": "3.5.1"
  }
 },
 "nbformat": 4,
 "nbformat_minor": 0
}
