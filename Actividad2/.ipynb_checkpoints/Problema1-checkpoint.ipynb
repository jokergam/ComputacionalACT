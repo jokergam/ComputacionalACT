{
 "cells": [
  {
   "cell_type": "code",
   "execution_count": 6,
   "metadata": {
    "collapsed": false
   },
   "outputs": [
    {
     "name": "stdout",
     "output_type": "stream",
     "text": [
      "Proporciona la altura de la torre (metros): 25\n",
      "El tiempo que tardó la pelota en llegar al suelo es de 2.2576182049286544 segundos\n"
     ]
    }
   ],
   "source": [
    "from math import sqrt\n",
    "h = float(input(\"Proporciona la altura de la torre (metros): \"))\n",
    "t = sqrt((2*h)/9.81)\n",
    "print(\"El tiempo que tardó la pelota en llegar al suelo es de\", t, \"segundos\")"
   ]
  },
  {
   "cell_type": "code",
   "execution_count": null,
   "metadata": {
    "collapsed": true
   },
   "outputs": [],
   "source": []
  }
 ],
 "metadata": {
  "kernelspec": {
   "display_name": "Python 3",
   "language": "python",
   "name": "python3"
  },
  "language_info": {
   "codemirror_mode": {
    "name": "ipython",
    "version": 3
   },
   "file_extension": ".py",
   "mimetype": "text/x-python",
   "name": "python",
   "nbconvert_exporter": "python",
   "pygments_lexer": "ipython3",
   "version": "3.5.1"
  }
 },
 "nbformat": 4,
 "nbformat_minor": 0
}
