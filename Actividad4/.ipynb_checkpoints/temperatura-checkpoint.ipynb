{
 "cells": [
  {
   "cell_type": "code",
   "execution_count": 7,
   "metadata": {
    "collapsed": false
   },
   "outputs": [],
   "source": [
    "import numpy as np\n",
    "from scipy import optimize\n",
    "import matplotlib.pyplot as plt\n",
    "from numpy import *\n",
    "\n",
    "#\"tvsa\" es el archivo temperatura en invierno en Nueva York\n",
    "x, y = loadtxt('tvsa.dat', unpack=True)\n",
    "xn = np.linspace(min(x), max(x), 200)\n",
    "\n",
    "m, c = np.polyfit(x, y,1)\n",
    "yn = np.polyval([m, c], xn)\n",
    "\n",
    "plt.plot(x, y, 'or',label='data')\n",
    "plt.plot(xn, yn,label='fit')\n",
    "plt.ylabel('temperatura (F)')\n",
    "plt.xlabel('años')\n",
    "plt.legend()\n",
    "plt.show()"
   ]
  },
  {
   "cell_type": "code",
   "execution_count": null,
   "metadata": {
    "collapsed": true
   },
   "outputs": [],
   "source": []
  }
 ],
 "metadata": {
  "kernelspec": {
   "display_name": "Python 3",
   "language": "python",
   "name": "python3"
  },
  "language_info": {
   "codemirror_mode": {
    "name": "ipython",
    "version": 3
   },
   "file_extension": ".py",
   "mimetype": "text/x-python",
   "name": "python",
   "nbconvert_exporter": "python",
   "pygments_lexer": "ipython3",
   "version": "3.5.1"
  }
 },
 "nbformat": 4,
 "nbformat_minor": 0
}
