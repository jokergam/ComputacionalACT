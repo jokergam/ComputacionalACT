{
 "cells": [
  {
   "cell_type": "code",
   "execution_count": 18,
   "metadata": {
    "collapsed": false
   },
   "outputs": [],
   "source": [
    "import numpy as np\n",
    "from numpy import *\n",
    "from scipy.optimize import curve_fit\n",
    "import matplotlib.pyplot as plt\n",
    "\n",
    "#\"tvsa\" es el archivo temperatura en invierno en Nueva York\n",
    "x, y = loadtxt('pvsa.dat', unpack=True)\n",
    "\n",
    "\n",
    "def func(x, a, b, c, d):\n",
    "    return a*np.exp(-c*(x-b))+d\n",
    "popt, pcov = curve_fit(func, x, y)\n",
    "\n",
    "plt.plot(x,y,'or',label='data')\n",
    "\n",
    "plt.plot(x,func(x,*popt),label='fit')\n",
    "plt.ylabel('presion (mb)')\n",
    "plt.xlabel('altura (km)')\n",
    "plt.legend()\n",
    "plt.show()"
   ]
  },
  {
   "cell_type": "code",
   "execution_count": null,
   "metadata": {
    "collapsed": true
   },
   "outputs": [],
   "source": []
  }
 ],
 "metadata": {
  "kernelspec": {
   "display_name": "Python 3",
   "language": "python",
   "name": "python3"
  },
  "language_info": {
   "codemirror_mode": {
    "name": "ipython",
    "version": 3
   },
   "file_extension": ".py",
   "mimetype": "text/x-python",
   "name": "python",
   "nbconvert_exporter": "python",
   "pygments_lexer": "ipython3",
   "version": "3.5.1"
  }
 },
 "nbformat": 4,
 "nbformat_minor": 0
}
