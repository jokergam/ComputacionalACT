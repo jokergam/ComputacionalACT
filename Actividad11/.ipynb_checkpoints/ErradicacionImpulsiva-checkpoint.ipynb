{
 "cells": [
  {
   "cell_type": "code",
   "execution_count": 2,
   "metadata": {
    "collapsed": true
   },
   "outputs": [],
   "source": [
    "import numpy as np\n",
    "import matplotlib.pyplot as plt\n",
    "from scipy.integrate import odeint\n",
    "import matplotlib\n",
    "\n",
    "plt.ion()\n",
    "plt.rcParams['figure.figsize'] = 10, 8\n",
    "\n",
    "Pi  = 0        # birth rate\n",
    "Del = 0.0001   # Muertes Naturales %  (Por dia)\n",
    "Bet = 0.0055   # Transmision       %  (Por dia)\n",
    "Zet = 0.0900   # Removidos         %  (Por dia)\n",
    "Alf = 0.0075   # Destruidos        %  (Por dia)\n",
    "k = 0.25\n",
    "n=4\n",
    "\n",
    "# solve the system dy/dt = f(y, t)\n",
    "def f(y, t):\n",
    "    Si = y[0]\n",
    "    Zi = y[1]\n",
    "    Ri = y[2]\n",
    "    # the model equations (see Munz et al. 2009)\n",
    "    f0 = Pi - Bet*Si*Zi - Del*Si                  #Si\n",
    "    f1 = Bet*Si*Zi + Zet*Ri - Alf*Si*Zi           #Zi\n",
    "    f2 = Del*Si + Alf*Si*Zi - Zet*Ri              #Ri\n",
    "    f3 = -k*n*Zi                                  #DZi\n",
    "    \n",
    "    return [f0, f1, f2, f3]\n",
    "\n",
    "#condiciones iniciales\n",
    "S0 = 500.                        # Poblacion Inicial\n",
    "Z0 = 0.                          # Zombie Inicial\n",
    "R0 = 0.                          # Muertos Inicial\n",
    "DZ0 = 0.                          # Infectados Inicial\n",
    "y0 = [S0, Z0, R0, DZ0]            # vector\n",
    "t  = np.linspace(0., 130., 1000)  # Tiempo\n",
    "\n",
    "#Resolver ecuacion diferencial\n",
    "soln = odeint(f, y0, t)\n",
    "S = soln[:, 0]\n",
    "Z = soln[:, 1]\n",
    "R = soln[:, 2]\n",
    "I = soln[:, 3]\n",
    "\n",
    "# grafica\n",
    "plt.figure()\n",
    "plt.ylim(0,500)\n",
    "plt.grid(True)\n",
    "plt.plot(t, S, label='Humanos')\n",
    "plt.plot(t, Z, label='Zombies')\n",
    "plt.xlabel('Dias desde el brote')\n",
    "plt.ylabel('Poblacion')\n",
    "plt.title('Modelo de erradicacion impulsiva')\n",
    "plt.legend(loc=\"best\")\n",
    "\n",
    "\n",
    "#guardar grafica\n",
    "fig = matplotlib.pyplot.gcf()\n",
    "fig.set_size_inches(10.5,5.5)\n",
    "fig.savefig('ErradicacionImpulsiva.png',dpi=100)"
   ]
  },
  {
   "cell_type": "code",
   "execution_count": null,
   "metadata": {
    "collapsed": true
   },
   "outputs": [],
   "source": []
  }
 ],
 "metadata": {
  "kernelspec": {
   "display_name": "Python 3",
   "language": "python",
   "name": "python3"
  },
  "language_info": {
   "codemirror_mode": {
    "name": "ipython",
    "version": 3
   },
   "file_extension": ".py",
   "mimetype": "text/x-python",
   "name": "python",
   "nbconvert_exporter": "python",
   "pygments_lexer": "ipython3",
   "version": "3.5.1"
  }
 },
 "nbformat": 4,
 "nbformat_minor": 0
}
