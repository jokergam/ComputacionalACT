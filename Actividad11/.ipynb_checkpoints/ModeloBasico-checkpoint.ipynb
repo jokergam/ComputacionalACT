{
 "cells": [
  {
   "cell_type": "code",
   "execution_count": 1,
   "metadata": {
    "collapsed": false
   },
   "outputs": [],
   "source": [
    "import numpy as np\n",
    "import matplotlib.pyplot as plt\n",
    "from scipy.integrate import odeint\n",
    "import matplotlib\n",
    "\n",
    "plt.ion()\n",
    "plt.rcParams['figure.figsize'] = 10, 8\n",
    "\n",
    "P = 0       # birth rate\n",
    "d = 0.0001  # natural death percent (per day)\n",
    "B = 0.0095  # transmission percent  (per day)\n",
    "G = 0.0001  # resurect percent (per day)\n",
    "A = 0.0001  # destroy percent  (per day)\n",
    "\n",
    "# solve the system dy/dt = f(y, t)\n",
    "def f(y, t):\n",
    "    Si = y[0]\n",
    "    Zi = y[1]\n",
    "    Ri = y[2]\n",
    "    # the model equations (see Munz et al. 2009)\n",
    "    f0 = P - B*Si*Zi - d*Si\n",
    "    f1 = B*Si*Zi + G*Ri - A*Si*Zi\n",
    "    f2 = d*Si + A*Si*Zi - G*Ri\n",
    "    return [f0, f1, f2]\n",
    "\n",
    "# initial conditions\n",
    "S0 = 500.                   # initial population\n",
    "Z0 = 0                      # initial zombie population\n",
    "R0 = 0                      # initial death population\n",
    "y0 = [S0, Z0, R0]   # initial condition vector\n",
    "t  = np.linspace(0, 5., 1000)       # time grid\n",
    "\n",
    "#Resolver ecuacion diferencial\n",
    "soln = odeint(f, y0, t)\n",
    "S = soln[:, 0]\n",
    "Z = soln[:, 1]\n",
    "R = soln[:, 2]\n",
    "\n",
    "#Grafica\n",
    "plt.figure()\n",
    "plt.plot(t, S, label='Humanos')\n",
    "plt.plot(t, Z, label='Zombies')\n",
    "plt.xlabel('Dias desde el brote')\n",
    "plt.ylabel('Poblacion')\n",
    "plt.title('Zombie Apocalypse - No Init. Dead Pop.; No New Births.')\n",
    "plt.legend(loc=0)\n",
    "\n",
    "\n",
    "#guardar grafica\n",
    "fig = matplotlib.pyplot.gcf()\n",
    "fig.set_size_inches(10.5,5.5)\n",
    "fig.savefig('ModeloBasico.png',dpi=100)"
   ]
  },
  {
   "cell_type": "code",
   "execution_count": null,
   "metadata": {
    "collapsed": true
   },
   "outputs": [],
   "source": []
  }
 ],
 "metadata": {
  "kernelspec": {
   "display_name": "Python 3",
   "language": "python",
   "name": "python3"
  },
  "language_info": {
   "codemirror_mode": {
    "name": "ipython",
    "version": 3
   },
   "file_extension": ".py",
   "mimetype": "text/x-python",
   "name": "python",
   "nbconvert_exporter": "python",
   "pygments_lexer": "ipython3",
   "version": "3.5.1"
  }
 },
 "nbformat": 4,
 "nbformat_minor": 0
}
