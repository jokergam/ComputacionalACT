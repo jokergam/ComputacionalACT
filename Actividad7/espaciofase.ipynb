{
 "cells": [
  {
   "cell_type": "code",
   "execution_count": 40,
   "metadata": {
    "collapsed": false
   },
   "outputs": [],
   "source": [
    "import numpy as np\n",
    "import matplotlib.pyplot as plt\n",
    "from scipy.integrate import odeint\n",
    "from numpy import *\n",
    "#parametros\n",
    "g = 9.81\n",
    "l = 1.0\n",
    "c = g/l\n",
    "\n",
    "X_f1 = np.array([-10*np.pi,10*np.pi])\n",
    "X_f2 = np.array([-5*np.pi,5*np.pi])\n",
    "t = np.linspace(0,20,1000)\n",
    "\n",
    "b=0\n",
    "#funcion\n",
    "def pend(y, t, b, c):\n",
    "    theta, omega = y\n",
    "    dy_dt = [omega,-c*np.sin(theta)]\n",
    "    return dy_dt\n",
    "\n",
    "\n",
    "values  = linspace(-1, 1, 70)                          \n",
    "vcolors = plt.cm.autumn_r(np.linspace(0.3, 1, len(values)))  \n",
    "plt.figure(2)\n",
    "\n",
    "for v, col in zip(values, vcolors):\n",
    "    y0 = v * X_f1                              \n",
    "    \n",
    "    X = odeint(pend, y0, t, args=(b,c))         \n",
    "    plt.plot( X[:,0], X[:,1], lw=3.5*v, color=col, label='X0=(%.f, %.f)' % ( y0[0], y0[1]) )\n",
    "\n",
    "                              \n",
    "for v, col in zip(values, vcolors):\n",
    "    y1 = v * X_f2                           \n",
    "    X1 = odeint(pend, y1, t, args=(b,c))           \n",
    "    plt.plot( X1[:,0], X1[:,1], lw=3.5*v, color=col, label='X0=(%.f, %.f)' % ( y1[0], y1[1]) )\n",
    "\n",
    "#graficar    \n",
    "plt.title('Espacio fase')\n",
    "plt.xlabel('$\\\\theta$')\n",
    "plt.ylabel('$\\omega$')\n",
    "plt.grid()\n",
    "plt.xlim(-3.0*np.pi,3.0*np.pi)\n",
    "plt.ylim(-15,15)\n",
    "plt.show()"
   ]
  },
  {
   "cell_type": "code",
   "execution_count": null,
   "metadata": {
    "collapsed": true
   },
   "outputs": [],
   "source": []
  }
 ],
 "metadata": {
  "kernelspec": {
   "display_name": "Python 3",
   "language": "python",
   "name": "python3"
  },
  "language_info": {
   "codemirror_mode": {
    "name": "ipython",
    "version": 3
   },
   "file_extension": ".py",
   "mimetype": "text/x-python",
   "name": "python",
   "nbconvert_exporter": "python",
   "pygments_lexer": "ipython3",
   "version": "3.5.1"
  }
 },
 "nbformat": 4,
 "nbformat_minor": 0
}
